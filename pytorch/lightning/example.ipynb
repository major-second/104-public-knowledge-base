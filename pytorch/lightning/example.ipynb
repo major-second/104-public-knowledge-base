{
 "cells": [
  {
   "cell_type": "markdown",
   "metadata": {},
   "source": [
    "# basics\n",
    "## building dataset"
   ]
  },
  {
   "cell_type": "code",
   "execution_count": 19,
   "metadata": {},
   "outputs": [
    {
     "name": "stdout",
     "output_type": "stream",
     "text": [
      "400\n",
      "(tensor([0., 0.]), tensor([4.]))\n",
      "(tensor([1., 0.]), tensor([7.]))\n"
     ]
    }
   ],
   "source": [
    "from torch.utils.data import Dataset\n",
    "from torch import Tensor\n",
    "class MyDataset(Dataset):\n",
    "    def __getitem__(self, index):\n",
    "        return Tensor([index, 0.]), Tensor([3. * index + 4])\n",
    "    def __len__(self):\n",
    "        return 400\n",
    "training_dataset = MyDataset()\n",
    "print(len(training_dataset))\n",
    "print(training_dataset[0])\n",
    "print(training_dataset[1])"
   ]
  },
  {
   "cell_type": "markdown",
   "metadata": {},
   "source": [
    "## building dataloader"
   ]
  },
  {
   "cell_type": "code",
   "execution_count": 20,
   "metadata": {},
   "outputs": [
    {
     "name": "stdout",
     "output_type": "stream",
     "text": [
      "tensor([[0., 0.],\n",
      "        [1., 0.],\n",
      "        [2., 0.],\n",
      "        [3., 0.]])\n",
      "tensor([[ 4.],\n",
      "        [ 7.],\n",
      "        [10.],\n",
      "        [13.]])\n"
     ]
    }
   ],
   "source": [
    "from torch.utils.data import DataLoader\n",
    "train_dataloader = DataLoader(training_dataset, batch_size=4)\n",
    "for x, y in train_dataloader:\n",
    "    print(x)\n",
    "    print(y)\n",
    "    break"
   ]
  },
  {
   "cell_type": "markdown",
   "metadata": {},
   "source": [
    "## building model"
   ]
  },
  {
   "cell_type": "code",
   "execution_count": 21,
   "metadata": {},
   "outputs": [
    {
     "name": "stdout",
     "output_type": "stream",
     "text": [
      "MyModel(\n",
      "  (model): Linear(in_features=2, out_features=1, bias=True)\n",
      ")\n"
     ]
    }
   ],
   "source": [
    "from torch import nn\n",
    "class MyModel(nn.Module):\n",
    "    def __init__(self):\n",
    "        super(MyModel, self).__init__()\n",
    "        self.model = nn.Linear(2, 1)\n",
    "    def forward(self, x):\n",
    "        return self.model(x)\n",
    "model = MyModel()\n",
    "print(model)"
   ]
  },
  {
   "cell_type": "markdown",
   "metadata": {},
   "source": [
    "## building optimizer"
   ]
  },
  {
   "cell_type": "code",
   "execution_count": 22,
   "metadata": {},
   "outputs": [],
   "source": [
    "from torch.optim import Adam\n",
    "optimizer = Adam(model.parameters(), lr=1e-1)"
   ]
  },
  {
   "cell_type": "markdown",
   "metadata": {},
   "source": [
    "## training"
   ]
  },
  {
   "cell_type": "code",
   "execution_count": 23,
   "metadata": {},
   "outputs": [
    {
     "name": "stdout",
     "output_type": "stream",
     "text": [
      "epoch: 19, loss: 1.2293457984924316e-07\n",
      "name, parameters: ('model.weight', Parameter containing:\n",
      "tensor([[2.9999, 0.2765]], requires_grad=True))\n",
      "name, parameters: ('model.bias', Parameter containing:\n",
      "tensor([4.0463], requires_grad=True))\n",
      "\n",
      "epoch: 39, loss: 0.0001651458442211151\n",
      "name, parameters: ('model.weight', Parameter containing:\n",
      "tensor([[2.9947, 0.2765]], requires_grad=True))\n",
      "name, parameters: ('model.bias', Parameter containing:\n",
      "tensor([6.1100], requires_grad=True))\n",
      "\n",
      "epoch: 59, loss: 72.84194946289062\n",
      "name, parameters: ('model.weight', Parameter containing:\n",
      "tensor([[2.9516, 0.2765]], requires_grad=True))\n",
      "name, parameters: ('model.bias', Parameter containing:\n",
      "tensor([5.8897], requires_grad=True))\n",
      "\n",
      "epoch: 79, loss: 0.006389569491147995\n",
      "name, parameters: ('model.weight', Parameter containing:\n",
      "tensor([[3.0070, 0.2765]], requires_grad=True))\n",
      "name, parameters: ('model.bias', Parameter containing:\n",
      "tensor([1.1720], requires_grad=True))\n",
      "\n",
      "epoch: 99, loss: 3.1487696170806885\n",
      "name, parameters: ('model.weight', Parameter containing:\n",
      "tensor([[3.0110, 0.2765]], requires_grad=True))\n",
      "name, parameters: ('model.bias', Parameter containing:\n",
      "tensor([3.2269], requires_grad=True))\n",
      "\n"
     ]
    }
   ],
   "source": [
    "loss_fn = nn.MSELoss()\n",
    "for epoch in range(100):\n",
    "    for batch, (x, y) in enumerate(train_dataloader):\n",
    "        loss = loss_fn(model(x), y)\n",
    "        optimizer.zero_grad()\n",
    "        loss.backward()\n",
    "        optimizer.step()\n",
    "    if epoch % 20 == 19:\n",
    "        print(f'epoch: {epoch}, loss: {loss.item()}')\n",
    "        for n, p in model.named_parameters():\n",
    "            print(f'name, parameters: {n, p}')\n",
    "        print()"
   ]
  },
  {
   "cell_type": "markdown",
   "metadata": {},
   "source": [
    "## testing"
   ]
  },
  {
   "cell_type": "code",
   "execution_count": 24,
   "metadata": {},
   "outputs": [
    {
     "name": "stdout",
     "output_type": "stream",
     "text": [
      "tensor([304.3310], grad_fn=<AddBackward0>)\n",
      "tensor([30110418.], grad_fn=<AddBackward0>)\n"
     ]
    }
   ],
   "source": [
    "print(model(Tensor([100, 0])))\n",
    "print(model(Tensor([10000000, 0])))"
   ]
  },
  {
   "cell_type": "markdown",
   "metadata": {},
   "source": [
    "可以看到，这里泛化到`10000000`就有了不小的误差"
   ]
  },
  {
   "cell_type": "markdown",
   "metadata": {},
   "source": [
    "## building lightning model"
   ]
  },
  {
   "cell_type": "code",
   "execution_count": 25,
   "metadata": {},
   "outputs": [
    {
     "name": "stdout",
     "output_type": "stream",
     "text": [
      "MyLitModel(\n",
      "  (model): Linear(in_features=2, out_features=1, bias=True)\n",
      ")\n"
     ]
    }
   ],
   "source": [
    "from pytorch_lightning import LightningModule\n",
    "class MyLitModel(LightningModule):\n",
    "    def __init__(self):\n",
    "        super(MyLitModel, self).__init__()\n",
    "        self.model = nn.Linear(2, 1)\n",
    "    def forward(self, x):\n",
    "        return self.model(x)\n",
    "    def configure_optimizers(self):\n",
    "        return Adam(self.parameters(), lr=1e-1)\n",
    "    def training_step(self, train_batch, batch_idx):\n",
    "        x, y = train_batch\n",
    "        loss = loss_fn(self.model(x), y)\n",
    "        self.log('train_loss', loss)\n",
    "        return loss\n",
    "    def validation_step(self, val_batch, batch_idx):\n",
    "        x, y = val_batch\n",
    "        loss = loss_fn(self.model(x), y)\n",
    "        self.log('val_loss', loss)\n",
    "model = MyLitModel()\n",
    "print(model)"
   ]
  },
  {
   "cell_type": "markdown",
   "metadata": {},
   "source": [
    "## building trainer"
   ]
  },
  {
   "cell_type": "code",
   "execution_count": 26,
   "metadata": {},
   "outputs": [
    {
     "name": "stderr",
     "output_type": "stream",
     "text": [
      "GPU available: True, used: False\n",
      "TPU available: False, using: 0 TPU cores\n",
      "IPU available: False, using: 0 IPUs\n",
      "HPU available: False, using: 0 HPUs\n"
     ]
    }
   ],
   "source": [
    "from pytorch_lightning import Trainer\n",
    "trainer = Trainer(max_epochs=10)"
   ]
  },
  {
   "cell_type": "markdown",
   "metadata": {},
   "source": [
    "## training using pytorch_lightning\n",
    "这里训练和验证集是同一个"
   ]
  },
  {
   "cell_type": "code",
   "execution_count": 27,
   "metadata": {},
   "outputs": [
    {
     "name": "stderr",
     "output_type": "stream",
     "text": [
      "\n",
      "  | Name  | Type   | Params\n",
      "---------------------------------\n",
      "0 | model | Linear | 3     \n",
      "---------------------------------\n",
      "3         Trainable params\n",
      "0         Non-trainable params\n",
      "3         Total params\n",
      "0.000     Total estimated model params size (MB)\n"
     ]
    },
    {
     "name": "stdout",
     "output_type": "stream",
     "text": [
      "Epoch 9: 100%|██████████| 200/200 [00:01<00:00, 126.80it/s, loss=0.000162, v_num=1]\n"
     ]
    }
   ],
   "source": [
    "trainer.fit(model, train_dataloader, train_dataloader)\n",
    "model.eval()\n",
    "inputs = Tensor([[i, 2*i] for i in range(4)])\n",
    "print(model(inputs))"
   ]
  }
 ],
 "metadata": {
  "kernelspec": {
   "display_name": "Python 3.7.5 64-bit ('b1f3c244e_d4ec2478')",
   "language": "python",
   "name": "python3"
  },
  "language_info": {
   "codemirror_mode": {
    "name": "ipython",
    "version": 3
   },
   "file_extension": ".py",
   "mimetype": "text/x-python",
   "name": "python",
   "nbconvert_exporter": "python",
   "pygments_lexer": "ipython3",
   "version": "3.7.5"
  },
  "orig_nbformat": 4,
  "vscode": {
   "interpreter": {
    "hash": "826d1dfb4f7095054fa1e8aa5c9f75611dff00fcf4380367d6d7b872b613014f"
   }
  }
 },
 "nbformat": 4,
 "nbformat_minor": 2
}
