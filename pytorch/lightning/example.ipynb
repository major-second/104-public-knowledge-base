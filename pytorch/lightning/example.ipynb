{
 "cells": [
  {
   "cell_type": "markdown",
   "metadata": {},
   "source": [
    "# basics\n",
    "## building dataset"
   ]
  },
  {
   "cell_type": "code",
   "execution_count": 1,
   "metadata": {},
   "outputs": [
    {
     "name": "stderr",
     "output_type": "stream",
     "text": [
      "/home/hyperplane/anaconda3/envs/pytorch_test/lib/python3.7/site-packages/tqdm/auto.py:22: TqdmWarning: IProgress not found. Please update jupyter and ipywidgets. See https://ipywidgets.readthedocs.io/en/stable/user_install.html\n",
      "  from .autonotebook import tqdm as notebook_tqdm\n"
     ]
    },
    {
     "name": "stdout",
     "output_type": "stream",
     "text": [
      "400\n",
      "(tensor([0., 0.]), tensor([4.]))\n",
      "(tensor([1., 0.]), tensor([7.]))\n"
     ]
    }
   ],
   "source": [
    "from torch.utils.data import Dataset\n",
    "from torch import Tensor\n",
    "class MyDataset(Dataset):\n",
    "    def __getitem__(self, index):\n",
    "        return Tensor([index, 0.]), Tensor([3. * index + 4])\n",
    "    def __len__(self):\n",
    "        return 400\n",
    "training_dataset = MyDataset()\n",
    "print(len(training_dataset))\n",
    "print(training_dataset[0])\n",
    "print(training_dataset[1])"
   ]
  },
  {
   "cell_type": "markdown",
   "metadata": {},
   "source": [
    "## building dataloader"
   ]
  },
  {
   "cell_type": "code",
   "execution_count": 2,
   "metadata": {},
   "outputs": [
    {
     "name": "stdout",
     "output_type": "stream",
     "text": [
      "tensor([[0., 0.],\n",
      "        [1., 0.],\n",
      "        [2., 0.],\n",
      "        [3., 0.]])\n",
      "tensor([[ 4.],\n",
      "        [ 7.],\n",
      "        [10.],\n",
      "        [13.]])\n"
     ]
    }
   ],
   "source": [
    "from torch.utils.data import DataLoader\n",
    "train_dataloader = DataLoader(training_dataset, batch_size=4)\n",
    "for x, y in train_dataloader:\n",
    "    print(x)\n",
    "    print(y)\n",
    "    break"
   ]
  },
  {
   "cell_type": "markdown",
   "metadata": {},
   "source": [
    "## building model"
   ]
  },
  {
   "cell_type": "code",
   "execution_count": 3,
   "metadata": {},
   "outputs": [
    {
     "name": "stdout",
     "output_type": "stream",
     "text": [
      "MyModel(\n",
      "  (model): Linear(in_features=2, out_features=1, bias=True)\n",
      ")\n"
     ]
    }
   ],
   "source": [
    "from torch import nn\n",
    "class MyModel(nn.Module):\n",
    "    def __init__(self):\n",
    "        super(MyModel, self).__init__()\n",
    "        self.model = nn.Linear(2, 1)\n",
    "    def forward(self, x):\n",
    "        return self.model(x)\n",
    "model = MyModel()\n",
    "print(model)"
   ]
  },
  {
   "cell_type": "markdown",
   "metadata": {},
   "source": [
    "## building optimizer"
   ]
  },
  {
   "cell_type": "code",
   "execution_count": 4,
   "metadata": {},
   "outputs": [],
   "source": [
    "from torch.optim import Adam\n",
    "optimizer = Adam(model.parameters(), lr=1e-1)"
   ]
  },
  {
   "cell_type": "markdown",
   "metadata": {},
   "source": [
    "## training"
   ]
  },
  {
   "cell_type": "code",
   "execution_count": 5,
   "metadata": {},
   "outputs": [
    {
     "name": "stdout",
     "output_type": "stream",
     "text": [
      "epoch: 19, loss: 9.914487600326538e-05\n",
      "name, parameters: ('model.weight', Parameter containing:\n",
      "tensor([[ 3.0004, -0.0428]], requires_grad=True))\n",
      "name, parameters: ('model.bias', Parameter containing:\n",
      "tensor([3.8486], requires_grad=True))\n",
      "\n",
      "epoch: 39, loss: 0.6594313979148865\n",
      "name, parameters: ('model.weight', Parameter containing:\n",
      "tensor([[ 3.0015, -0.0428]], requires_grad=True))\n",
      "name, parameters: ('model.bias', Parameter containing:\n",
      "tensor([1.8757], requires_grad=True))\n",
      "\n",
      "epoch: 59, loss: 0.0034229084849357605\n",
      "name, parameters: ('model.weight', Parameter containing:\n",
      "tensor([[ 3.0021, -0.0428]], requires_grad=True))\n",
      "name, parameters: ('model.bias', Parameter containing:\n",
      "tensor([3.2428], requires_grad=True))\n",
      "\n",
      "epoch: 79, loss: 49.69294738769531\n",
      "name, parameters: ('model.weight', Parameter containing:\n",
      "tensor([[ 3.0402, -0.0428]], requires_grad=True))\n",
      "name, parameters: ('model.bias', Parameter containing:\n",
      "tensor([0.2279], requires_grad=True))\n",
      "\n",
      "epoch: 99, loss: 0.025504864752292633\n",
      "name, parameters: ('model.weight', Parameter containing:\n",
      "tensor([[ 3.0107, -0.0428]], requires_grad=True))\n",
      "name, parameters: ('model.bias', Parameter containing:\n",
      "tensor([-0.4430], requires_grad=True))\n",
      "\n"
     ]
    }
   ],
   "source": [
    "loss_fn = nn.MSELoss()\n",
    "for epoch in range(100):\n",
    "    for batch, (x, y) in enumerate(train_dataloader):\n",
    "        loss = loss_fn(model(x), y)\n",
    "        optimizer.zero_grad()\n",
    "        loss.backward()\n",
    "        optimizer.step()\n",
    "    if epoch % 20 == 19:\n",
    "        print(f'epoch: {epoch}, loss: {loss.item()}')\n",
    "        for n, p in model.named_parameters():\n",
    "            print(f'name, parameters: {n, p}')\n",
    "        print()"
   ]
  },
  {
   "cell_type": "markdown",
   "metadata": {},
   "source": [
    "## testing"
   ]
  },
  {
   "cell_type": "code",
   "execution_count": 6,
   "metadata": {},
   "outputs": [
    {
     "name": "stdout",
     "output_type": "stream",
     "text": [
      "tensor([300.6250], grad_fn=<AddBackward0>)\n",
      "tensor([30106792.], grad_fn=<AddBackward0>)\n"
     ]
    }
   ],
   "source": [
    "print(model(Tensor([100, 0])))\n",
    "print(model(Tensor([10000000, 0])))"
   ]
  },
  {
   "cell_type": "markdown",
   "metadata": {},
   "source": [
    "可以看到，这里泛化到`10000000`就有了不小的误差"
   ]
  },
  {
   "cell_type": "markdown",
   "metadata": {},
   "source": [
    "## building lightning model"
   ]
  },
  {
   "cell_type": "code",
   "execution_count": 7,
   "metadata": {},
   "outputs": [
    {
     "name": "stdout",
     "output_type": "stream",
     "text": [
      "MyLitModel(\n",
      "  (model): Linear(in_features=2, out_features=1, bias=True)\n",
      ")\n"
     ]
    }
   ],
   "source": [
    "from pytorch_lightning import LightningModule\n",
    "class MyLitModel(LightningModule):\n",
    "    def __init__(self):\n",
    "        super(MyLitModel, self).__init__()\n",
    "        self.model = nn.Linear(2, 1)\n",
    "    def forward(self, x):\n",
    "        return self.model(x)\n",
    "    def configure_optimizers(self):\n",
    "        return Adam(self.parameters(), lr=1e-1)\n",
    "    def training_step(self, train_batch, batch_idx):\n",
    "        x, y = train_batch\n",
    "        loss = loss_fn(self.model(x), y)\n",
    "        self.log('train_loss', loss)\n",
    "        return loss\n",
    "    def validation_step(self, val_batch, batch_idx):\n",
    "        x, y = val_batch\n",
    "        loss = loss_fn(self.model(x), y)\n",
    "        self.log('val_loss', loss)\n",
    "model = MyLitModel()\n",
    "print(model)"
   ]
  },
  {
   "cell_type": "markdown",
   "metadata": {},
   "source": [
    "## building trainer"
   ]
  },
  {
   "cell_type": "code",
   "execution_count": 8,
   "metadata": {},
   "outputs": [
    {
     "name": "stderr",
     "output_type": "stream",
     "text": [
      "GPU available: True, used: False\n",
      "TPU available: False, using: 0 TPU cores\n",
      "IPU available: False, using: 0 IPUs\n",
      "HPU available: False, using: 0 HPUs\n",
      "/home/hyperplane/anaconda3/envs/pytorch_test/lib/python3.7/site-packages/pytorch_lightning/trainer/trainer.py:1817: PossibleUserWarning: GPU available but not used. Set `accelerator` and `devices` using `Trainer(accelerator='gpu', devices=8)`.\n",
      "  category=PossibleUserWarning,\n"
     ]
    }
   ],
   "source": [
    "from pytorch_lightning import Trainer\n",
    "trainer = Trainer(max_epochs=10)"
   ]
  },
  {
   "cell_type": "markdown",
   "metadata": {},
   "source": [
    "## training using pytorch_lightning\n",
    "这里训练和验证集是同一个"
   ]
  },
  {
   "cell_type": "code",
   "execution_count": 9,
   "metadata": {},
   "outputs": [
    {
     "name": "stderr",
     "output_type": "stream",
     "text": [
      "\n",
      "  | Name  | Type   | Params\n",
      "---------------------------------\n",
      "0 | model | Linear | 3     \n",
      "---------------------------------\n",
      "3         Trainable params\n",
      "0         Non-trainable params\n",
      "3         Total params\n",
      "0.000     Total estimated model params size (MB)\n"
     ]
    },
    {
     "name": "stdout",
     "output_type": "stream",
     "text": [
      "                                                                            "
     ]
    },
    {
     "name": "stderr",
     "output_type": "stream",
     "text": [
      "/home/hyperplane/anaconda3/envs/pytorch_test/lib/python3.7/site-packages/pytorch_lightning/trainer/connectors/data_connector.py:245: PossibleUserWarning: The dataloader, val_dataloader 0, does not have many workers which may be a bottleneck. Consider increasing the value of the `num_workers` argument` (try 72 which is the number of cpus on this machine) in the `DataLoader` init to improve performance.\n",
      "  category=PossibleUserWarning,\n",
      "/home/hyperplane/anaconda3/envs/pytorch_test/lib/python3.7/site-packages/pytorch_lightning/trainer/connectors/data_connector.py:245: PossibleUserWarning: The dataloader, train_dataloader, does not have many workers which may be a bottleneck. Consider increasing the value of the `num_workers` argument` (try 72 which is the number of cpus on this machine) in the `DataLoader` init to improve performance.\n",
      "  category=PossibleUserWarning,\n"
     ]
    },
    {
     "name": "stdout",
     "output_type": "stream",
     "text": [
      "Epoch 49: 100%|██████████| 200/200 [00:00<00:00, 259.73it/s, loss=0.00751, v_num=1] \n"
     ]
    }
   ],
   "source": [
    "trainer.fit(model, train_dataloader, train_dataloader)"
   ]
  }
 ],
 "metadata": {
  "kernelspec": {
   "display_name": "Python 3.7.13 ('pytorch_test')",
   "language": "python",
   "name": "python3"
  },
  "language_info": {
   "codemirror_mode": {
    "name": "ipython",
    "version": 3
   },
   "file_extension": ".py",
   "mimetype": "text/x-python",
   "name": "python",
   "nbconvert_exporter": "python",
   "pygments_lexer": "ipython3",
   "version": "3.7.13"
  },
  "orig_nbformat": 4,
  "vscode": {
   "interpreter": {
    "hash": "8322031f39af98cbe19368adda130b1174bb974b969346194f4b1af6a9fd7a2b"
   }
  }
 },
 "nbformat": 4,
 "nbformat_minor": 2
}
