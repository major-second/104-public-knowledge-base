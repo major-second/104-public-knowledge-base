{
 "cells": [
  {
   "cell_type": "markdown",
   "metadata": {},
   "source": [
    "## building dataset"
   ]
  },
  {
   "cell_type": "code",
   "execution_count": 41,
   "metadata": {},
   "outputs": [
    {
     "name": "stdout",
     "output_type": "stream",
     "text": [
      "400\n",
      "(tensor([0., 0.]), tensor([4.]))\n",
      "(tensor([1., 0.]), tensor([7.]))\n"
     ]
    }
   ],
   "source": [
    "from torch.utils.data import Dataset\n",
    "from torch import Tensor\n",
    "class MyDataset(Dataset):\n",
    "    def __getitem__(self, index):\n",
    "        return Tensor([index, 0.]), Tensor([3. * index + 4])\n",
    "    def __len__(self):\n",
    "        return 400\n",
    "training_dataset = MyDataset()\n",
    "print(len(training_dataset))\n",
    "print(training_dataset[0])\n",
    "print(training_dataset[1])"
   ]
  },
  {
   "cell_type": "markdown",
   "metadata": {},
   "source": [
    "## building dataloader"
   ]
  },
  {
   "cell_type": "code",
   "execution_count": 42,
   "metadata": {},
   "outputs": [
    {
     "name": "stdout",
     "output_type": "stream",
     "text": [
      "tensor([[0., 0.],\n",
      "        [1., 0.],\n",
      "        [2., 0.],\n",
      "        [3., 0.]])\n",
      "tensor([[ 4.],\n",
      "        [ 7.],\n",
      "        [10.],\n",
      "        [13.]])\n"
     ]
    }
   ],
   "source": [
    "from torch.utils.data import DataLoader\n",
    "train_dataloader = DataLoader(training_dataset, batch_size=4)\n",
    "for x, y in train_dataloader:\n",
    "    print(x)\n",
    "    print(y)\n",
    "    break"
   ]
  },
  {
   "cell_type": "markdown",
   "metadata": {},
   "source": [
    "## building model"
   ]
  },
  {
   "cell_type": "code",
   "execution_count": 43,
   "metadata": {},
   "outputs": [
    {
     "name": "stdout",
     "output_type": "stream",
     "text": [
      "MyModel(\n",
      "  (model): Linear(in_features=2, out_features=1, bias=True)\n",
      ")\n"
     ]
    }
   ],
   "source": [
    "from torch import nn\n",
    "class MyModel(nn.Module):\n",
    "    def __init__(self):\n",
    "        super(MyModel, self).__init__()\n",
    "        self.model = nn.Linear(2, 1)\n",
    "    def forward(self, x):\n",
    "        return self.model(x)\n",
    "model = MyModel()\n",
    "print(model)"
   ]
  },
  {
   "cell_type": "markdown",
   "metadata": {},
   "source": [
    "## building optimizer"
   ]
  },
  {
   "cell_type": "code",
   "execution_count": 44,
   "metadata": {},
   "outputs": [],
   "source": [
    "from torch.optim import Adam\n",
    "optimizer = Adam(model.parameters(), lr=1e-1)"
   ]
  },
  {
   "cell_type": "markdown",
   "metadata": {},
   "source": [
    "## training"
   ]
  },
  {
   "cell_type": "code",
   "execution_count": 45,
   "metadata": {},
   "outputs": [
    {
     "name": "stdout",
     "output_type": "stream",
     "text": [
      "epoch: 19, loss: 0.00132819265127182\n",
      "name, parameters: ('model.weight', Parameter containing:\n",
      "tensor([[ 3.0008, -0.4809]], requires_grad=True))\n",
      "name, parameters: ('model.bias', Parameter containing:\n",
      "tensor([3.7311], requires_grad=True))\n",
      "\n",
      "epoch: 39, loss: 26.613737106323242\n",
      "name, parameters: ('model.weight', Parameter containing:\n",
      "tensor([[ 3.0310, -0.4809]], requires_grad=True))\n",
      "name, parameters: ('model.bias', Parameter containing:\n",
      "tensor([1.7559], requires_grad=True))\n",
      "\n",
      "epoch: 59, loss: 0.004904955625534058\n",
      "name, parameters: ('model.weight', Parameter containing:\n",
      "tensor([[ 2.9938, -0.4809]], requires_grad=True))\n",
      "name, parameters: ('model.bias', Parameter containing:\n",
      "tensor([6.5013], requires_grad=True))\n",
      "\n",
      "epoch: 79, loss: 0.0010834857821464539\n",
      "name, parameters: ('model.weight', Parameter containing:\n",
      "tensor([[ 2.9926, -0.4809]], requires_grad=True))\n",
      "name, parameters: ('model.bias', Parameter containing:\n",
      "tensor([6.9206], requires_grad=True))\n",
      "\n",
      "epoch: 99, loss: 81.99793243408203\n",
      "name, parameters: ('model.weight', Parameter containing:\n",
      "tensor([[ 3.0423, -0.4809]], requires_grad=True))\n",
      "name, parameters: ('model.bias', Parameter containing:\n",
      "tensor([3.7922], requires_grad=True))\n",
      "\n"
     ]
    }
   ],
   "source": [
    "loss_fn = nn.MSELoss()\n",
    "for epoch in range(100):\n",
    "    for batch, (x, y) in enumerate(train_dataloader):\n",
    "        loss = loss_fn(model(x), y)\n",
    "        optimizer.zero_grad()\n",
    "        loss.backward()\n",
    "        optimizer.step()\n",
    "    if epoch % 20 == 19:\n",
    "        print(f'epoch: {epoch}, loss: {loss.item()}')\n",
    "        for n, p in model.named_parameters():\n",
    "            print(f'name, parameters: {n, p}')\n",
    "        print()"
   ]
  },
  {
   "cell_type": "markdown",
   "metadata": {},
   "source": [
    "## testing"
   ]
  },
  {
   "cell_type": "code",
   "execution_count": 46,
   "metadata": {},
   "outputs": [
    {
     "name": "stdout",
     "output_type": "stream",
     "text": [
      "tensor([308.0248], grad_fn=<AddBackward0>)\n",
      "tensor([30423264.], grad_fn=<AddBackward0>)\n"
     ]
    }
   ],
   "source": [
    "print(model(Tensor([100, 0])))\n",
    "print(model(Tensor([10000000, 0])))"
   ]
  },
  {
   "cell_type": "markdown",
   "metadata": {},
   "source": [
    "可以看到，这里泛化到`10000000`就有了不小的误差"
   ]
  },
  {
   "cell_type": "markdown",
   "metadata": {},
   "source": [
    "## finetuning"
   ]
  },
  {
   "cell_type": "code",
   "execution_count": 47,
   "metadata": {},
   "outputs": [
    {
     "name": "stdout",
     "output_type": "stream",
     "text": [
      "epoch: 19, loss: 0.01000823825597763\n",
      "name, parameters: ('model.weight', Parameter containing:\n",
      "tensor([[ 3.0009, -0.4809]], requires_grad=True))\n",
      "name, parameters: ('model.bias', Parameter containing:\n",
      "tensor([3.7533], requires_grad=True))\n",
      "\n",
      "epoch: 39, loss: 0.0021298080682754517\n",
      "name, parameters: ('model.weight', Parameter containing:\n",
      "tensor([[ 3.0007, -0.4809]], requires_grad=True))\n",
      "name, parameters: ('model.bias', Parameter containing:\n",
      "tensor([3.7682], requires_grad=True))\n",
      "\n",
      "epoch: 59, loss: 3.5762786865234375e-07\n",
      "name, parameters: ('model.weight', Parameter containing:\n",
      "tensor([[ 3.0005, -0.4809]], requires_grad=True))\n",
      "name, parameters: ('model.bias', Parameter containing:\n",
      "tensor([3.8003], requires_grad=True))\n",
      "\n",
      "epoch: 79, loss: 1.126900315284729e-05\n",
      "name, parameters: ('model.weight', Parameter containing:\n",
      "tensor([[ 3.0004, -0.4809]], requires_grad=True))\n",
      "name, parameters: ('model.bias', Parameter containing:\n",
      "tensor([3.8462], requires_grad=True))\n",
      "\n",
      "epoch: 99, loss: 2.436339855194092e-06\n",
      "name, parameters: ('model.weight', Parameter containing:\n",
      "tensor([[ 3.0003, -0.4809]], requires_grad=True))\n",
      "name, parameters: ('model.bias', Parameter containing:\n",
      "tensor([3.8945], requires_grad=True))\n",
      "\n",
      "epoch: 119, loss: 1.3075768947601318e-06\n",
      "name, parameters: ('model.weight', Parameter containing:\n",
      "tensor([[ 3.0002, -0.4809]], requires_grad=True))\n",
      "name, parameters: ('model.bias', Parameter containing:\n",
      "tensor([3.9369], requires_grad=True))\n",
      "\n",
      "epoch: 139, loss: 1.862645149230957e-07\n",
      "name, parameters: ('model.weight', Parameter containing:\n",
      "tensor([[ 3.0001, -0.4809]], requires_grad=True))\n",
      "name, parameters: ('model.bias', Parameter containing:\n",
      "tensor([3.9697], requires_grad=True))\n",
      "\n",
      "epoch: 159, loss: 2.60770320892334e-08\n",
      "name, parameters: ('model.weight', Parameter containing:\n",
      "tensor([[ 3.0000, -0.4809]], requires_grad=True))\n",
      "name, parameters: ('model.bias', Parameter containing:\n",
      "tensor([3.9909], requires_grad=True))\n",
      "\n",
      "epoch: 179, loss: 5.5246055126190186e-06\n",
      "name, parameters: ('model.weight', Parameter containing:\n",
      "tensor([[ 3.0000, -0.4809]], requires_grad=True))\n",
      "name, parameters: ('model.bias', Parameter containing:\n",
      "tensor([3.9974], requires_grad=True))\n",
      "\n",
      "epoch: 199, loss: 2.384185791015625e-07\n",
      "name, parameters: ('model.weight', Parameter containing:\n",
      "tensor([[ 3.0000, -0.4809]], requires_grad=True))\n",
      "name, parameters: ('model.bias', Parameter containing:\n",
      "tensor([4.0006], requires_grad=True))\n",
      "\n",
      "epoch: 219, loss: 1.4901161193847656e-08\n",
      "name, parameters: ('model.weight', Parameter containing:\n",
      "tensor([[ 3.0000, -0.4809]], requires_grad=True))\n",
      "name, parameters: ('model.bias', Parameter containing:\n",
      "tensor([4.0002], requires_grad=True))\n",
      "\n",
      "epoch: 239, loss: 2.039968967437744e-05\n",
      "name, parameters: ('model.weight', Parameter containing:\n",
      "tensor([[ 3.0000, -0.4809]], requires_grad=True))\n",
      "name, parameters: ('model.bias', Parameter containing:\n",
      "tensor([4.0009], requires_grad=True))\n",
      "\n",
      "epoch: 259, loss: 7.88271427154541e-06\n",
      "name, parameters: ('model.weight', Parameter containing:\n",
      "tensor([[ 3.0000, -0.4809]], requires_grad=True))\n",
      "name, parameters: ('model.bias', Parameter containing:\n",
      "tensor([4.0006], requires_grad=True))\n",
      "\n",
      "epoch: 279, loss: 1.4901161193847656e-08\n",
      "name, parameters: ('model.weight', Parameter containing:\n",
      "tensor([[ 3.0000, -0.4809]], requires_grad=True))\n",
      "name, parameters: ('model.bias', Parameter containing:\n",
      "tensor([4.0014], requires_grad=True))\n",
      "\n",
      "epoch: 299, loss: 2.384185791015625e-05\n",
      "name, parameters: ('model.weight', Parameter containing:\n",
      "tensor([[ 3.0000, -0.4809]], requires_grad=True))\n",
      "name, parameters: ('model.bias', Parameter containing:\n",
      "tensor([4.0027], requires_grad=True))\n",
      "\n",
      "epoch: 319, loss: 1.4901161193847656e-08\n",
      "name, parameters: ('model.weight', Parameter containing:\n",
      "tensor([[ 3.0000, -0.4809]], requires_grad=True))\n",
      "name, parameters: ('model.bias', Parameter containing:\n",
      "tensor([4.0006], requires_grad=True))\n",
      "\n",
      "epoch: 339, loss: 7.301568984985352e-07\n",
      "name, parameters: ('model.weight', Parameter containing:\n",
      "tensor([[ 3.0000, -0.4809]], requires_grad=True))\n",
      "name, parameters: ('model.bias', Parameter containing:\n",
      "tensor([4.0020], requires_grad=True))\n",
      "\n",
      "epoch: 359, loss: 0.0002319030463695526\n",
      "name, parameters: ('model.weight', Parameter containing:\n",
      "tensor([[ 3.0001, -0.4809]], requires_grad=True))\n",
      "name, parameters: ('model.bias', Parameter containing:\n",
      "tensor([4.0017], requires_grad=True))\n",
      "\n",
      "epoch: 379, loss: 7.051974534988403e-06\n",
      "name, parameters: ('model.weight', Parameter containing:\n",
      "tensor([[ 3.0000, -0.4809]], requires_grad=True))\n",
      "name, parameters: ('model.bias', Parameter containing:\n",
      "tensor([3.9970], requires_grad=True))\n",
      "\n",
      "epoch: 399, loss: 9.5367431640625e-07\n",
      "name, parameters: ('model.weight', Parameter containing:\n",
      "tensor([[ 3.0000, -0.4809]], requires_grad=True))\n",
      "name, parameters: ('model.bias', Parameter containing:\n",
      "tensor([4.0032], requires_grad=True))\n",
      "\n",
      "epoch: 419, loss: 1.341104507446289e-07\n",
      "name, parameters: ('model.weight', Parameter containing:\n",
      "tensor([[ 3.0000, -0.4809]], requires_grad=True))\n",
      "name, parameters: ('model.bias', Parameter containing:\n",
      "tensor([3.9989], requires_grad=True))\n",
      "\n",
      "epoch: 439, loss: 3.725290298461914e-08\n",
      "name, parameters: ('model.weight', Parameter containing:\n",
      "tensor([[ 3.0000, -0.4809]], requires_grad=True))\n",
      "name, parameters: ('model.bias', Parameter containing:\n",
      "tensor([4.0030], requires_grad=True))\n",
      "\n",
      "epoch: 459, loss: 6.247684359550476e-05\n",
      "name, parameters: ('model.weight', Parameter containing:\n",
      "tensor([[ 3.0000, -0.4809]], requires_grad=True))\n",
      "name, parameters: ('model.bias', Parameter containing:\n",
      "tensor([3.9989], requires_grad=True))\n",
      "\n",
      "epoch: 479, loss: 3.2570213079452515e-05\n",
      "name, parameters: ('model.weight', Parameter containing:\n",
      "tensor([[ 3.0000, -0.4809]], requires_grad=True))\n",
      "name, parameters: ('model.bias', Parameter containing:\n",
      "tensor([4.0033], requires_grad=True))\n",
      "\n",
      "epoch: 499, loss: 7.450580596923828e-09\n",
      "name, parameters: ('model.weight', Parameter containing:\n",
      "tensor([[ 3.0000, -0.4809]], requires_grad=True))\n",
      "name, parameters: ('model.bias', Parameter containing:\n",
      "tensor([4.0046], requires_grad=True))\n",
      "\n"
     ]
    }
   ],
   "source": [
    "optimizer = Adam(model.parameters(), lr=1e-4)\n",
    "for epoch in range(500):\n",
    "    for batch, (x, y) in enumerate(train_dataloader):\n",
    "        loss = loss_fn(model(x), y)\n",
    "        optimizer.zero_grad()\n",
    "        loss.backward()\n",
    "        optimizer.step()\n",
    "    if epoch % 20 == 19:\n",
    "        print(f'epoch: {epoch}, loss: {loss.item()}')\n",
    "        for n, p in model.named_parameters():\n",
    "            print(f'name, parameters: {n, p}')\n",
    "        print()"
   ]
  },
  {
   "cell_type": "markdown",
   "metadata": {},
   "source": [
    "## testing \\# 2"
   ]
  },
  {
   "cell_type": "code",
   "execution_count": 48,
   "metadata": {},
   "outputs": [
    {
     "name": "stdout",
     "output_type": "stream",
     "text": [
      "tensor([304.0034], grad_fn=<AddBackward0>)\n",
      "tensor([29999892.], grad_fn=<AddBackward0>)\n"
     ]
    }
   ],
   "source": [
    "print(model(Tensor([100, 0])))\n",
    "print(model(Tensor([10000000, 0])))"
   ]
  }
 ],
 "metadata": {
  "kernelspec": {
   "display_name": "Python 3.7.13 ('pytorch_test')",
   "language": "python",
   "name": "python3"
  },
  "language_info": {
   "codemirror_mode": {
    "name": "ipython",
    "version": 3
   },
   "file_extension": ".py",
   "mimetype": "text/x-python",
   "name": "python",
   "nbconvert_exporter": "python",
   "pygments_lexer": "ipython3",
   "version": "3.7.13"
  },
  "orig_nbformat": 4,
  "vscode": {
   "interpreter": {
    "hash": "8322031f39af98cbe19368adda130b1174bb974b969346194f4b1af6a9fd7a2b"
   }
  }
 },
 "nbformat": 4,
 "nbformat_minor": 2
}
