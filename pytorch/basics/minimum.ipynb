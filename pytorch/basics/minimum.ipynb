{
 "cells": [
  {
   "cell_type": "markdown",
   "metadata": {},
   "source": [
    "## building dataset"
   ]
  },
  {
   "cell_type": "code",
   "execution_count": 90,
   "metadata": {},
   "outputs": [
    {
     "name": "stdout",
     "output_type": "stream",
     "text": [
      "100\n",
      "(tensor([0., 0.]), tensor([4.]))\n",
      "(tensor([1., 0.]), tensor([7.]))\n"
     ]
    }
   ],
   "source": [
    "from torch.utils.data import Dataset\n",
    "from torch import Tensor\n",
    "class MyDataset(Dataset):\n",
    "    def __getitem__(self, index):\n",
    "        return Tensor([index, 0.]), Tensor([3. * index + 4])\n",
    "    def __len__(self):\n",
    "        return 400\n",
    "training_dataset = MyDataset()\n",
    "print(len(training_dataset))\n",
    "print(training_dataset[0])\n",
    "print(training_dataset[1])"
   ]
  },
  {
   "cell_type": "markdown",
   "metadata": {},
   "source": [
    "## building dataloader"
   ]
  },
  {
   "cell_type": "code",
   "execution_count": 91,
   "metadata": {},
   "outputs": [
    {
     "name": "stdout",
     "output_type": "stream",
     "text": [
      "tensor([[0., 0.],\n",
      "        [1., 0.],\n",
      "        [2., 0.],\n",
      "        [3., 0.]])\n",
      "tensor([[ 4.],\n",
      "        [ 7.],\n",
      "        [10.],\n",
      "        [13.]])\n"
     ]
    }
   ],
   "source": [
    "from torch.utils.data import DataLoader\n",
    "train_dataloader = DataLoader(training_dataset, batch_size=4)\n",
    "for x, y in train_dataloader:\n",
    "    print(x)\n",
    "    print(y)\n",
    "    break"
   ]
  },
  {
   "cell_type": "markdown",
   "metadata": {},
   "source": [
    "## building model"
   ]
  },
  {
   "cell_type": "code",
   "execution_count": 92,
   "metadata": {},
   "outputs": [
    {
     "name": "stdout",
     "output_type": "stream",
     "text": [
      "MyModel(\n",
      "  (model): Linear(in_features=2, out_features=1, bias=True)\n",
      ")\n"
     ]
    }
   ],
   "source": [
    "from torch import nn\n",
    "class MyModel(nn.Module):\n",
    "    def __init__(self):\n",
    "        super(MyModel, self).__init__()\n",
    "        self.model = nn.Linear(2, 1)\n",
    "    def forward(self, x):\n",
    "        return self.model(x)\n",
    "model = MyModel()\n",
    "print(model)"
   ]
  },
  {
   "cell_type": "markdown",
   "metadata": {},
   "source": [
    "## building optimizer"
   ]
  },
  {
   "cell_type": "code",
   "execution_count": 93,
   "metadata": {},
   "outputs": [],
   "source": [
    "from torch.optim import Adam\n",
    "optimizer = Adam(model.parameters(), lr=1e-1)"
   ]
  },
  {
   "cell_type": "markdown",
   "metadata": {},
   "source": [
    "## training"
   ]
  },
  {
   "cell_type": "code",
   "execution_count": 94,
   "metadata": {},
   "outputs": [
    {
     "name": "stdout",
     "output_type": "stream",
     "text": [
      "epoch: 19, loss: 0.09063121676445007\n",
      "name, parameters: ('model.weight', Parameter containing:\n",
      "tensor([[3.0089, 0.6755]], requires_grad=True))\n",
      "name, parameters: ('model.bias', Parameter containing:\n",
      "tensor([3.3611], requires_grad=True))\n",
      "\n",
      "epoch: 39, loss: 0.010128804482519627\n",
      "name, parameters: ('model.weight', Parameter containing:\n",
      "tensor([[3.0028, 0.6755]], requires_grad=True))\n",
      "name, parameters: ('model.bias', Parameter containing:\n",
      "tensor([3.7703], requires_grad=True))\n",
      "\n",
      "epoch: 59, loss: 9.519350714981556e-05\n",
      "name, parameters: ('model.weight', Parameter containing:\n",
      "tensor([[3.0003, 0.6755]], requires_grad=True))\n",
      "name, parameters: ('model.bias', Parameter containing:\n",
      "tensor([3.9647], requires_grad=True))\n",
      "\n",
      "epoch: 79, loss: 6.176996976137161e-07\n",
      "name, parameters: ('model.weight', Parameter containing:\n",
      "tensor([[3.0000, 0.6755]], requires_grad=True))\n",
      "name, parameters: ('model.bias', Parameter containing:\n",
      "tensor([3.9989], requires_grad=True))\n",
      "\n",
      "epoch: 99, loss: 3.725290298461914e-09\n",
      "name, parameters: ('model.weight', Parameter containing:\n",
      "tensor([[3.0000, 0.6755]], requires_grad=True))\n",
      "name, parameters: ('model.bias', Parameter containing:\n",
      "tensor([3.9997], requires_grad=True))\n",
      "\n"
     ]
    }
   ],
   "source": [
    "loss_fn = nn.MSELoss()\n",
    "for epoch in range(100):\n",
    "    for batch, (x, y) in enumerate(train_dataloader):\n",
    "        loss = loss_fn(model(x), y)\n",
    "        optimizer.zero_grad()\n",
    "        loss.backward()\n",
    "        optimizer.step()\n",
    "    if epoch % 20 == 19:\n",
    "        print(f'epoch: {epoch}, loss: {loss.item()}')\n",
    "        for n, p in model.named_parameters():\n",
    "            print(f'name, parameters: {n, p}')\n",
    "        print()"
   ]
  },
  {
   "cell_type": "markdown",
   "metadata": {},
   "source": [
    "## testing"
   ]
  },
  {
   "cell_type": "code",
   "execution_count": 95,
   "metadata": {},
   "outputs": [
    {
     "name": "stdout",
     "output_type": "stream",
     "text": [
      "tensor([304.0002], grad_fn=<AddBackward0>)\n",
      "tensor([30000054.], grad_fn=<AddBackward0>)\n"
     ]
    }
   ],
   "source": [
    "print(model(Tensor([100, 0])))\n",
    "print(model(Tensor([10000000, 0])))"
   ]
  },
  {
   "cell_type": "markdown",
   "metadata": {},
   "source": [
    "可以看到，这里泛化到`10000000`就有了不小的误差"
   ]
  },
  {
   "cell_type": "markdown",
   "metadata": {},
   "source": [
    "## finetuning"
   ]
  },
  {
   "cell_type": "code",
   "execution_count": 96,
   "metadata": {},
   "outputs": [
    {
     "name": "stdout",
     "output_type": "stream",
     "text": [
      "epoch: 19, loss: 3.725290298461914e-09\n",
      "name, parameters: ('model.weight', Parameter containing:\n",
      "tensor([[3.0000, 0.6755]], requires_grad=True))\n",
      "name, parameters: ('model.bias', Parameter containing:\n",
      "tensor([3.9999], requires_grad=True))\n",
      "\n",
      "epoch: 39, loss: 0.0\n",
      "name, parameters: ('model.weight', Parameter containing:\n",
      "tensor([[3.0000, 0.6755]], requires_grad=True))\n",
      "name, parameters: ('model.bias', Parameter containing:\n",
      "tensor([4.0000], requires_grad=True))\n",
      "\n",
      "epoch: 59, loss: 0.0\n",
      "name, parameters: ('model.weight', Parameter containing:\n",
      "tensor([[3.0000, 0.6755]], requires_grad=True))\n",
      "name, parameters: ('model.bias', Parameter containing:\n",
      "tensor([4.0000], requires_grad=True))\n",
      "\n",
      "epoch: 79, loss: 0.0\n",
      "name, parameters: ('model.weight', Parameter containing:\n",
      "tensor([[3.0000, 0.6755]], requires_grad=True))\n",
      "name, parameters: ('model.bias', Parameter containing:\n",
      "tensor([4.0000], requires_grad=True))\n",
      "\n",
      "epoch: 99, loss: 0.0\n",
      "name, parameters: ('model.weight', Parameter containing:\n",
      "tensor([[3.0000, 0.6755]], requires_grad=True))\n",
      "name, parameters: ('model.bias', Parameter containing:\n",
      "tensor([4.0000], requires_grad=True))\n",
      "\n"
     ]
    }
   ],
   "source": [
    "loss_fn = nn.MSELoss()\n",
    "for epoch in range(100):\n",
    "    for batch, (x, y) in enumerate(train_dataloader):\n",
    "        loss = loss_fn(model(x), y)\n",
    "        optimizer.zero_grad()\n",
    "        loss.backward()\n",
    "        optimizer.step()\n",
    "    if epoch % 20 == 19:\n",
    "        print(f'epoch: {epoch}, loss: {loss.item()}')\n",
    "        for n, p in model.named_parameters():\n",
    "            print(f'name, parameters: {n, p}')\n",
    "        print()"
   ]
  },
  {
   "cell_type": "markdown",
   "metadata": {},
   "source": [
    "## testing \\# 2"
   ]
  },
  {
   "cell_type": "code",
   "execution_count": 97,
   "metadata": {},
   "outputs": [
    {
     "name": "stdout",
     "output_type": "stream",
     "text": [
      "tensor([304.], grad_fn=<AddBackward0>)\n",
      "tensor([30000004.], grad_fn=<AddBackward0>)\n"
     ]
    }
   ],
   "source": [
    "print(model(Tensor([100, 0])))\n",
    "print(model(Tensor([10000000, 0])))"
   ]
  }
 ],
 "metadata": {
  "kernelspec": {
   "display_name": "Python 3.7.13 ('pytorch_test')",
   "language": "python",
   "name": "python3"
  },
  "language_info": {
   "codemirror_mode": {
    "name": "ipython",
    "version": 3
   },
   "file_extension": ".py",
   "mimetype": "text/x-python",
   "name": "python",
   "nbconvert_exporter": "python",
   "pygments_lexer": "ipython3",
   "version": "3.7.13"
  },
  "orig_nbformat": 4,
  "vscode": {
   "interpreter": {
    "hash": "8322031f39af98cbe19368adda130b1174bb974b969346194f4b1af6a9fd7a2b"
   }
  }
 },
 "nbformat": 4,
 "nbformat_minor": 2
}
