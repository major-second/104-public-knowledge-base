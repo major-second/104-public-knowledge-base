{
 "cells": [
  {
   "cell_type": "markdown",
   "metadata": {},
   "source": [
    "- 我们生成只在一个区间相关的数据集（且不是线性相关）"
   ]
  },
  {
   "cell_type": "code",
   "execution_count": 21,
   "metadata": {},
   "outputs": [],
   "source": [
    "import numpy as np\n",
    "import pandas as pd\n",
    "from sklearn.linear_model import LinearRegression\n",
    "from sko.DE import DE\n",
    "random_head = pd.DataFrame(np.random.random([1000, 2]) * [1, 1000**3])\n",
    "random_tail = pd.DataFrame(np.random.random([1000, 2]) * [1, 1000**3] + np.array((1000, 0)))\n",
    "regular_mid = pd.DataFrame([[i, i**3] for i in range(1000)])\n",
    "sample = pd.concat((random_head, regular_mid, random_tail))\n",
    "sample.index = sample[0]"
   ]
  },
  {
   "cell_type": "markdown",
   "metadata": {},
   "source": [
    "- 排序和找`x`最大最小值，方便后续处理\n",
    "- 这里最值要在`DE`的`ub, lb`使用"
   ]
  },
  {
   "cell_type": "code",
   "execution_count": 22,
   "metadata": {},
   "outputs": [],
   "source": [
    "sample = sample.dropna().sort_index()\n",
    "min_x, max_x = sample.values[:, 0].min(), sample.values[:, 0].max()"
   ]
  },
  {
   "cell_type": "markdown",
   "metadata": {},
   "source": [
    "- 构造待优化目标\n",
    "  - 这里输入\n",
    "    - 数据集`sample`\n",
    "    - 这次运行时认为“相关”的区间的上下界`low, high`\n",
    "    - 幂次`alpha`\n",
    "  - 只考查这一认为“相关”的区间，进行拟合\n",
    "  - 除了该区间，其余部分直接平凡地使得$\\hat y = \\hat b x + \\hat a$成立显然是合理做法\n",
    "  - 注意特判`inside`或`outside`无数据的情况"
   ]
  },
  {
   "cell_type": "code",
   "execution_count": 25,
   "metadata": {},
   "outputs": [
    {
     "name": "stdout",
     "output_type": "stream",
     "text": [
      "(0.0876056988017686, 0.08815998180886686, array([0.1995945]), 331974203.0372608)\n",
      "(0.8807328168235553, 0.39046208211956335, array([225738.61937446]), -159277903.83746284)\n",
      "(1.0, 0.42382317700424943, array([1.]), 2.086162567138672e-07)\n"
     ]
    }
   ],
   "source": [
    "def get_info_from_hyperparams(sample, low, high, alpha):\n",
    "    full_array = sample.values\n",
    "    \n",
    "    inside_range_mask = np.logical_and(full_array[:, 0] > low, full_array[:, 0] < high)\n",
    "    if inside_range_mask.sum() == 0:\n",
    "        return 0, 0, np.nan, np.nan\n",
    "    inside_part = full_array[np.where(inside_range_mask)[0]]\n",
    "    inside_x, inside_y = np.power(inside_part[:, 0], alpha).reshape(-1, 1), inside_part[:, 1]\n",
    "    model = LinearRegression()\n",
    "    model.fit(inside_x, inside_y)\n",
    "    local_score = model.score(inside_x, inside_y)\n",
    "    b, a = model.coef_, model.intercept_\n",
    "\n",
    "    processed_sample = inside_range_mask * np.power(full_array[:, 0], alpha)\n",
    "\n",
    "    outside_range_mask = 1 - inside_range_mask\n",
    "    if outside_range_mask.sum() != 0:\n",
    "        outside_y_mean = full_array[:, 1][np.where(outside_range_mask)[0]].mean()\n",
    "        processed_sample += outside_range_mask * (outside_y_mean - a) / b\n",
    "\n",
    "    x_after_mask, y_after_mask = processed_sample.reshape(-1, 1), full_array[:, 1]\n",
    "    assert x_after_mask.mean() * b + a - y_after_mask.mean() < 1e-3\n",
    "    global_score = model.score(x_after_mask, y_after_mask)\n",
    "    return local_score, global_score, b, a\n",
    "\n",
    "print(get_info_from_hyperparams(sample, 0, 2000, 3))\n",
    "print(get_info_from_hyperparams(sample, 2, 999, 1.2))\n",
    "print(get_info_from_hyperparams(sample, 2, 999, 3))"
   ]
  },
  {
   "cell_type": "markdown",
   "metadata": {},
   "source": [
    "- 根据接口要求，定义由三元组到结果（且越小越好）的待优化目标，并进行优化\n",
    "- 这里当出现更好结果时每次进行输出，避免你傻等啥也看不到"
   ]
  },
  {
   "cell_type": "code",
   "execution_count": null,
   "metadata": {},
   "outputs": [],
   "source": [
    "min_z = float('inf')\n",
    "def objective(p):\n",
    "    low, high, alpha = p\n",
    "    z = -get_info_from_hyperparams(sample, low, high, alpha)[1]\n",
    "    global min_z\n",
    "    if z < min_z:\n",
    "        min_z = z\n",
    "        print(min_z)\n",
    "    return z\n",
    "\n",
    "de = DE(func=objective, n_dim=3, size_pop=50, max_iter=100, lb=[min_x, min_x, 0.01], ub=[max_x, max_x, 10])\n",
    "best_x, best_y = de.run()\n",
    "print(best_x, best_y)"
   ]
  }
 ],
 "metadata": {
  "kernelspec": {
   "display_name": "Python 3.9.13 64-bit",
   "language": "python",
   "name": "python3"
  },
  "language_info": {
   "codemirror_mode": {
    "name": "ipython",
    "version": 3
   },
   "file_extension": ".py",
   "mimetype": "text/x-python",
   "name": "python",
   "nbconvert_exporter": "python",
   "pygments_lexer": "ipython3",
   "version": "3.9.13"
  },
  "orig_nbformat": 4,
  "vscode": {
   "interpreter": {
    "hash": "75736b6c6437529f77642d96352bdcaefa1b35d425991d9216b0325544a57209"
   }
  }
 },
 "nbformat": 4,
 "nbformat_minor": 2
}
