{
 "cells": [
  {
   "cell_type": "code",
   "execution_count": 1,
   "metadata": {},
   "outputs": [
    {
     "name": "stdout",
     "output_type": "stream",
     "text": [
      "hello\n"
     ]
    }
   ],
   "source": [
    "print('hello')"
   ]
  },
  {
   "cell_type": "markdown",
   "metadata": {},
   "source": [
    "You can use **vscode** to edit `Markdown` blocks and debug `python` blocks efficiently.\n",
    "\n",
    "- Install `python` extension in vscode.\n",
    "- Make a new `.ipynb` file.\n",
    "- Use vscode to edit and debug.\n",
    "  - For an interpreter for the first time: `conda install -n pytorch_test ipykernel --update-deps --force-reinstall`"
   ]
  }
 ],
 "metadata": {
  "kernelspec": {
   "display_name": "Python 3.7.13 ('pytorch_test')",
   "language": "python",
   "name": "python3"
  },
  "language_info": {
   "codemirror_mode": {
    "name": "ipython",
    "version": 3
   },
   "file_extension": ".py",
   "mimetype": "text/x-python",
   "name": "python",
   "nbconvert_exporter": "python",
   "pygments_lexer": "ipython3",
   "version": "3.7.13"
  },
  "orig_nbformat": 4,
  "vscode": {
   "interpreter": {
    "hash": "8322031f39af98cbe19368adda130b1174bb974b969346194f4b1af6a9fd7a2b"
   }
  }
 },
 "nbformat": 4,
 "nbformat_minor": 2
}
